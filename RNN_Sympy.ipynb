{
  "nbformat": 4,
  "nbformat_minor": 0,
  "metadata": {
    "colab": {
      "name": "RNN_Sympy.ipynb",
      "provenance": [],
      "collapsed_sections": [],
      "authorship_tag": "ABX9TyOBYy19qQypQZm3CWMMcmbg",
      "include_colab_link": true
    },
    "kernelspec": {
      "name": "python3",
      "display_name": "Python 3"
    },
    "language_info": {
      "name": "python"
    }
  },
  "cells": [
    {
      "cell_type": "markdown",
      "metadata": {
        "id": "view-in-github",
        "colab_type": "text"
      },
      "source": [
        "<a href=\"https://colab.research.google.com/github/omidkhalafbeigi/rnn_from_scratch/blob/main/RNN_Sympy.ipynb\" target=\"_parent\"><img src=\"https://colab.research.google.com/assets/colab-badge.svg\" alt=\"Open In Colab\"/></a>"
      ]
    },
    {
      "cell_type": "code",
      "execution_count": 32,
      "metadata": {
        "id": "DwFvyfFpp_QX"
      },
      "outputs": [],
      "source": [
        "from sympy import * \n",
        "from sympy.functions import *\n",
        "from sklearn.preprocessing import MinMaxScaler\n",
        "import math\n",
        "import numpy as np\n",
        "from matplotlib import pyplot as plt"
      ]
    },
    {
      "cell_type": "code",
      "source": [
        "def sigmoid(x):\n",
        "  return 1 / (1 + exp(-x))"
      ],
      "metadata": {
        "id": "WcOyZ_8sqRvz"
      },
      "execution_count": 7,
      "outputs": []
    },
    {
      "cell_type": "code",
      "source": [
        "data = list()\n",
        "x = list()\n",
        "\n",
        "for i in range(-720, 720):\n",
        "  rad = (i * math.pi) / 180\n",
        "  x.append(rad)\n",
        "  data.append(math.sin(rad))\n",
        "\n",
        "x = np.array(x)\n",
        "data = np.array(data)\n",
        "\n",
        "timesteps = 2\n",
        "X_train = list()\n",
        "y_train = list()\n",
        "\n",
        "for i in range(timesteps, data.shape[0], 1):\n",
        "  X_train.append(data[i - timesteps:i])\n",
        "  y_train.append(data[i])\n",
        "\n",
        "X_train = MinMaxScaler().fit_transform(np.array(X_train))\n",
        "X_train = np.reshape(X_train, (X_train.shape[0], X_train.shape[1], 1))\n",
        "y_train = np.array(y_train).reshape(-1, 1)"
      ],
      "metadata": {
        "id": "AiRTBXzNxdgM"
      },
      "execution_count": 173,
      "outputs": []
    },
    {
      "cell_type": "code",
      "source": [
        "x1, w1x, b1, w1h, y, v1, v2, c, w2x, b2, x2, w2h, m, l, h11_o, h12_o, h21_o, h22_o, y_o, observed = symbols('x1 w1x b1 w1h y v1 v2 c w2x b2 x2 w2h m l h11_o h12_o h21_o h22_o y_o observed')"
      ],
      "metadata": {
        "id": "IrgVV5Yfq2W4"
      },
      "execution_count": 182,
      "outputs": []
    },
    {
      "cell_type": "code",
      "source": [
        "h11 = sigmoid(x1 * w1x + b1)\n",
        "h12 = sigmoid(x2 * w1x + b1 + w1h * h11)\n",
        "h21 = sigmoid(x1 * w2x + b2)\n",
        "h22 = sigmoid(x2 * w2x + b2 + w2h * h21)\n",
        "y = v1 * h12 + v2 * h22 + c\n",
        "error = (1 / m) * ((y - l) ** 2)\n",
        "\n",
        "delta_b1 = diff(error, b1)\n",
        "delta_w1x = diff(error, w1x)\n",
        "delta_w1h = diff(error, w1h)\n",
        "delta_w2x = diff(error, w2x)\n",
        "delta_b2 = diff(error, b2)\n",
        "delta_w2h = diff(error, w2x)\n",
        "delta_v1 = diff(error, v1)\n",
        "delta_v2 = diff(error, v2)\n",
        "delta_c = diff(error, c)\n",
        "\n",
        "all_vars = [x1, w1x, b1, w1h, v1, v2, c, w2x, b2, x2, w2h, m, l, h11_o, h12_o, h21_o, h22_o, y_o, observed]\n",
        "delta_b1 = lambdify(all_vars, delta_b1)\n",
        "delta_w1x = lambdify(all_vars, delta_w1x)\n",
        "delta_w1h = lambdify(all_vars, delta_w1h)\n",
        "delta_w2x = lambdify(all_vars, delta_w2x)\n",
        "delta_b2 = lambdify(all_vars, delta_b2)\n",
        "delta_w2h = lambdify(all_vars, delta_w2h)\n",
        "delta_v1 = lambdify(all_vars, delta_v1)\n",
        "delta_v2 = lambdify(all_vars, delta_v2)\n",
        "delta_c = lambdify(all_vars, delta_c)\n",
        "\n",
        "h11 = lambdify([x1, w1x, b1], sigmoid(x1 * w1x + b1))\n",
        "h12 = lambdify([x2, w1x, b1, w1h, h11_o], sigmoid(x2 * w1x + b1 + w1h * h11_o))\n",
        "h21 = lambdify([x1, w2x, b2], sigmoid(x1 * w2x + b2))\n",
        "h22 = lambdify([x2, w2x, b2, w2h, h21_o], sigmoid(x2 * w2x + b2 + w2h * h21_o))\n",
        "y = lambdify([v1, h12_o, v2, h22_o, c], v1 * h12_o + v2 * h22_o + c)\n",
        "error = lambdify([m, y_o, observed], (1 / m) * ((y_o - observed) ** 2))"
      ],
      "metadata": {
        "id": "_k4Eo6YQrCbi"
      },
      "execution_count": 183,
      "outputs": []
    },
    {
      "cell_type": "code",
      "source": [
        "w1x = np.random.rand(1, 1)\n",
        "w1h = np.random.rand(1, 1)\n",
        "b1 = np.random.rand(1, 1)\n",
        "w2x = np.random.rand(1, 1)\n",
        "w2h = np.random.rand(1, 1)\n",
        "b2 = np.random.rand(1, 1)\n",
        "c = np.random.rand(1, 1)\n",
        "v1 = np.random.rand(1, 1)\n",
        "v2 = np.random.rand(1, 1)\n",
        "m = 1\n",
        "lr = 0.001"
      ],
      "metadata": {
        "id": "uZnao4eO8vkl"
      },
      "execution_count": 184,
      "outputs": []
    },
    {
      "cell_type": "code",
      "source": [
        "for epoch in range(100):\n",
        "  for index in range(X_train.shape[0]):\n",
        "    sample = X_train[index]\n",
        "    h11_o = h11(sample[0], w1x, b1)\n",
        "    h12_o = h12(sample[1], w1x, b1, w1h, h11_o)\n",
        "    h21_o = h21(sample[0], w2x, b2)\n",
        "    h22_o = h22(sample[1], w2x, b2, w2h, h21_o)\n",
        "    y_o = y(v1, h12_o, v2, h22_o, c)\n",
        "    e = error(m, y_o, y_train[index])\n",
        "\n",
        "    l = y_train[index]\n",
        "    w1x -= lr * (delta_w1x(sample[0], w1x, b1, w1h, v1, v2, c, w2x, b2, sample[1], w2h, m, l, h11_o, h12_o, h21_o, h22_o, y_o, y_train[index]))\n",
        "    w1h -= lr * (delta_w1h(sample[0], w1x, b1, w1h, v1, v2, c, w2x, b2, sample[1], w2h, m, l, h11_o, h12_o, h21_o, h22_o, y_o, y_train[index]))\n",
        "    b1 -= lr * (delta_b1(sample[0], w1x, b1, w1h, v1, v2, c, w2x, b2, sample[1], w2h, m, l, h11_o, h12_o, h21_o, h22_o, y_o, y_train[index]))\n",
        "    w2x -= lr * (delta_w2x(sample[0], w1x, b1, w1h, v1, v2, c, w2x, b2, sample[1], w2h, m, l, h11_o, h12_o, h21_o, h22_o, y_o, y_train[index]))\n",
        "    w2h -= lr * (delta_w2h(sample[0], w1x, b1, w1h, v1, v2, c, w2x, b2, sample[1], w2h, m, l, h11_o, h12_o, h21_o, h22_o, y_o, y_train[index]))\n",
        "    b2 -= lr * (delta_b2(sample[0], w1x, b1, w1h, v1, v2, c, w2x, b2, sample[1], w2h, m, l, h11_o, h12_o, h21_o, h22_o, y_o, y_train[index]))\n",
        "    c -= lr * (delta_c(sample[0], w1x, b1, w1h, v1, v2, c, w2x, b2, sample[1], w2h, m, l, h11_o, h12_o, h21_o, h22_o, y_o, y_train[index]))\n",
        "    v1 -= lr * (delta_v1(sample[0], w1x, b1, w1h, v1, v2, c, w2x, b2, sample[1], w2h, m, l, h11_o, h12_o, h21_o, h22_o, y_o, y_train[index]))\n",
        "    v2 -= lr * (delta_v2(sample[0], w1x, b1, w1h, v1, v2, c, w2x, b2, sample[1], w2h, m, l, h11_o, h12_o, h21_o, h22_o, y_o, y_train[index]))\n",
        "\n",
        "  print(f'Epoch: {epoch} - Error: {e}')\n"
      ],
      "metadata": {
        "id": "egncXTd9tjAd"
      },
      "execution_count": null,
      "outputs": []
    },
    {
      "cell_type": "code",
      "source": [
        "pred = list()\n",
        "for sample in X_train:\n",
        "  h11_o = h11(sample[0], w1x, b1)\n",
        "  h12_o = h12(sample[1], w1x, b1, w1h, h11_o)\n",
        "  h21_o = h21(sample[0], w2x, b2)\n",
        "  h22_o = h22(sample[1], w2x, b2, w2h, h21_o)\n",
        "  y_o = y(v1, h12_o, v2, h22_o, c)\n",
        "  pred.append(y_o)\n",
        "\n",
        "pred = np.array(pred)\n",
        "pred = np.reshape(pred, (pred.shape[0],))"
      ],
      "metadata": {
        "id": "O1F6ZgjaFqRI"
      },
      "execution_count": 190,
      "outputs": []
    },
    {
      "cell_type": "code",
      "source": [
        "plt.plot(pred, 'black')\n",
        "plt.plot(y_train, 'red')\n",
        "plt.show()"
      ],
      "metadata": {
        "colab": {
          "base_uri": "https://localhost:8080/",
          "height": 265
        },
        "id": "3vdS6xSVGQ7p",
        "outputId": "e140da86-cdc5-4307-a559-476954220ce4"
      },
      "execution_count": 193,
      "outputs": [
        {
          "output_type": "display_data",
          "data": {
            "image/png": "[encoded data removed]",
            "text/plain": [
              "<Figure size 432x288 with 1 Axes>"
            ]
          },
          "metadata": {
            "needs_background": "light"
          }
        }
      ]
    }
  ]
}