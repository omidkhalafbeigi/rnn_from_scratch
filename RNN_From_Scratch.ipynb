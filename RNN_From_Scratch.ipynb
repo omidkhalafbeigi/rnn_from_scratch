{
  "nbformat": 4,
  "nbformat_minor": 0,
  "metadata": {
    "colab": {
      "name": "RNN_From_Scratch.ipynb",
      "provenance": [],
      "collapsed_sections": [],
      "authorship_tag": "ABX9TyMUp4j4souucHCgjhoolE8W",
      "include_colab_link": true
    },
    "kernelspec": {
      "name": "python3",
      "display_name": "Python 3"
    },
    "language_info": {
      "name": "python"
    }
  },
  "cells": [
    {
      "cell_type": "markdown",
      "metadata": {
        "id": "view-in-github",
        "colab_type": "text"
      },
      "source": [
        "<a href=\"https://colab.research.google.com/github/omidkhalafbeigi/rnn_from_scratch/blob/main/RNN_From_Scratch.ipynb\" target=\"_parent\"><img src=\"https://colab.research.google.com/assets/colab-badge.svg\" alt=\"Open In Colab\"/></a>"
      ]
    },
    {
      "cell_type": "code",
      "execution_count": 2,
      "metadata": {
        "id": "eu2v8z0JhKIT"
      },
      "outputs": [],
      "source": [
        "from sklearn.preprocessing import MinMaxScaler\n",
        "import math\n",
        "import numpy as np\n",
        "from matplotlib import pyplot as plt"
      ]
    },
    {
      "cell_type": "code",
      "source": [
        "def sigmoid(x):\n",
        "  return 1 / (1 + np.exp(-x))\n",
        "\n",
        "def sigmoid_der(x):\n",
        "  return sigmoid(x) * (1 - sigmoid(x))"
      ],
      "metadata": {
        "id": "K7uq1b9selvC"
      },
      "execution_count": 50,
      "outputs": []
    },
    {
      "cell_type": "code",
      "source": [
        "data = list()\n",
        "x = list()\n",
        "\n",
        "for i in range(-720, 720):\n",
        "  rad = (i * math.pi) / 180\n",
        "  x.append(rad)\n",
        "  data.append(math.sin(rad))\n",
        "\n",
        "x = np.array(x)\n",
        "data = np.array(data)\n",
        "\n",
        "timesteps = 2\n",
        "X_train = list()\n",
        "y_train = list()\n",
        "\n",
        "for i in range(timesteps, data.shape[0], 1):\n",
        "  X_train.append(data[i - timesteps:i])\n",
        "  y_train.append(data[i])\n",
        "\n",
        "X_train = MinMaxScaler().fit_transform(np.array(X_train))\n",
        "X_train = np.reshape(X_train, (X_train.shape[0], X_train.shape[1], 1))\n",
        "y_train = np.array(y_train).reshape(-1, 1)"
      ],
      "metadata": {
        "id": "3Ni7J3cD1LDy"
      },
      "execution_count": 136,
      "outputs": []
    },
    {
      "cell_type": "code",
      "source": [
        "w1_prev = np.random.rand(1, 1)\n",
        "w2_prev = np.random.rand(1, 1)\n",
        "w1 = np.random.rand(1, 1)\n",
        "w2 = np.random.rand(1, 1)\n",
        "w3 = np.random.rand(1, 1)\n",
        "w4 = np.random.rand(1, 1)\n",
        "b1 = np.random.rand(1, 1)\n",
        "b2 = np.random.rand(1, 1)\n",
        "c = np.random.rand(1, 1)\n",
        "lr = 0.001\n",
        "\n",
        "for epoch in range(3000):\n",
        "  for index in range(X_train.shape[0]):\n",
        "    sample = X_train[index]\n",
        "    h1_prev = sigmoid((sample[0] * w1) + b1)\n",
        "    h1 = sigmoid((sample[1] * w1) + (h1_prev * w1_prev) + b1)\n",
        "    h2_prev = sigmoid((sample[0] * w2) + b2)\n",
        "    h2 = sigmoid((sample[1] * w2) + (h2_prev * w2_prev) + b2)\n",
        "\n",
        "    o = (h1 * w3) + (h2 * w4) + c\n",
        "    error = y_train[index] - o\n",
        "\n",
        "    e = (sample[0] * w1) + (h1_prev * w1_prev) + b1\n",
        "    z = (sample[1] * w1) + (sigmoid(e) * w1_prev) + b1\n",
        "    b1 -= lr * (-2) * error * sigmoid_der(z) * (1 + (w1_prev * sigmoid_der(e)))\n",
        "    w1 -= lr * (-2) * error * w3 * sigmoid_der(z) * (sample[1] + (sample[0] * w1_prev * sigmoid_der(e)))\n",
        "    w1_prev -= lr * (-2) * error * sigmoid_der(z) * (sigmoid((sample[0] * w1) + (h1_prev * w1_prev) + b1) + h1_prev * sigmoid_der(e) * w1_prev)\n",
        "    w3 -= lr * (-2) * error * h1\n",
        "\n",
        "    e = (sample[0] * w2) + (h2_prev * w2_prev) + b2\n",
        "    z = (sample[1] * w2) + (sigmoid(e) * w2_prev) + b2\n",
        "    b2 -= lr * (-2) * error * sigmoid_der(z) * (1 + (w2_prev * sigmoid_der(e)))\n",
        "    w2 -= lr * (-2) * error * w4 * sigmoid_der(z) * (sample[1] + (sample[0] * w2_prev * sigmoid_der(e)))\n",
        "    w2_prev -= lr * (-2) * error * sigmoid_der(z) * (sigmoid((sample[0] * w2) + (h2_prev * w2_prev) + b2) + h2_prev * sigmoid_der(e) * w2_prev)\n",
        "    w4 -= lr * (-2) * error * h2\n",
        "\n",
        "    c -= lr * (-2) * error\n",
        "\n",
        "  print(f'Error: {error} - Epoch: {epoch}')\n"
      ],
      "metadata": {
        "id": "YS0Hm4WNeJMG"
      },
      "execution_count": null,
      "outputs": []
    },
    {
      "cell_type": "code",
      "source": [
        "outputs = list()\n",
        "for index in range(X_train.shape[0]):\n",
        "    sample = X_train[index]\n",
        "    h1_prev = sigmoid((sample[0] * w1) + b1)\n",
        "    h1 = sigmoid((sample[1] * w1) + (h1_prev * w1_prev) + b1)\n",
        "    h2_prev = sigmoid((sample[0] * w2) + b2)\n",
        "    h2 = sigmoid((sample[1] * w2) + (h2_prev * w2_prev) + b2)\n",
        "\n",
        "    o = (h1 * w3) + (h2 * w4) + c\n",
        "    outputs.append(o)\n",
        "\n",
        "outputs = np.array(outputs)\n",
        "outputs = np.reshape(outputs, (outputs.shape[0],))\n",
        "plt.plot(y_train, 'black')\n",
        "plt.plot(outputs, 'red')\n",
        "plt.show()"
      ],
      "metadata": {
        "colab": {
          "base_uri": "https://localhost:8080/",
          "height": 265
        },
        "id": "gKWPANdJ7EW4",
        "outputId": "f6558d9b-2286-40db-ff4f-83b8da338ede"
      },
      "execution_count": 142,
      "outputs": [
        {
          "output_type": "display_data",
          "data": {
            "image/png": "[encoded data removed]",
            "text/plain": [
              "<Figure size 432x288 with 1 Axes>"
            ]
          },
          "metadata": {
            "needs_background": "light"
          }
        }
      ]
    }
  ]
}